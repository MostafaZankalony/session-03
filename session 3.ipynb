{
 "cells": [
  {
   "cell_type": "code",
   "execution_count": null,
   "id": "ec586509",
   "metadata": {},
   "outputs": [],
   "source": [
    "x=1\n",
    "while x<=5 :\n",
    "    print(x,end=',')\n",
    "    x=x+1"
   ]
  },
  {
   "cell_type": "code",
   "execution_count": null,
   "id": "9ea6d75f",
   "metadata": {},
   "outputs": [],
   "source": [
    "x=int(input(\"\"))\n",
    "summ=0\n",
    "while x>=0:\n",
    "    summ+=x\n",
    "    x-=1\n",
    "print(summ)"
   ]
  },
  {
   "cell_type": "code",
   "execution_count": null,
   "id": "df4eb854",
   "metadata": {},
   "outputs": [],
   "source": [
    "t=int(input())\n",
    "while t>0 :\n",
    "    num=int(input())\n",
    "    summ=0\n",
    "    start=1\n",
    "    while start<=num :\n",
    "        num+=start\n",
    "        start+=1\n",
    "    t -=1 \n",
    "    print(\"sum from 1 to \",num,\"=\",sum)\n",
    "    \n",
    "    "
   ]
  },
  {
   "cell_type": "code",
   "execution_count": null,
   "id": "96a87b13",
   "metadata": {},
   "outputs": [],
   "source": [
    "for i in range (1,6) :\n",
    "    for j in range (i):\n",
    "        print(\"*\"*i)"
   ]
  },
  {
   "cell_type": "code",
   "execution_count": null,
   "id": "0719becd",
   "metadata": {},
   "outputs": [],
   "source": [
    "for i in range (0,5) :\n",
    "    for j in range (1,i+1):\n",
    "        print(\"*\"*j)"
   ]
  },
  {
   "cell_type": "code",
   "execution_count": null,
   "id": "ed7770f4",
   "metadata": {},
   "outputs": [],
   "source": []
  },
  {
   "cell_type": "code",
   "execution_count": null,
   "id": "fa0924e6",
   "metadata": {},
   "outputs": [],
   "source": [
    "i=1\n",
    "j=0\n",
    "while i<7:\n",
    "    while j<i :\n",
    "        print (\"*\"*j)\n",
    "        j+=1\n",
    "    i+=1"
   ]
  },
  {
   "cell_type": "code",
   "execution_count": null,
   "id": "0859099c",
   "metadata": {},
   "outputs": [],
   "source": [
    "i=1\n",
    "j=0\n",
    "while i<7:\n",
    "    while j<i :\n",
    "        print (\"*\"*j)\n",
    "        j+=1\n",
    "    i+=1"
   ]
  },
  {
   "cell_type": "code",
   "execution_count": 1,
   "id": "67364540",
   "metadata": {},
   "outputs": [
    {
     "name": "stdout",
     "output_type": "stream",
     "text": [
      "11\n"
     ]
    }
   ],
   "source": [
    "def fun(x,y,i):\n",
    "    if i==\"sum\":\n",
    "        z=x+y\n",
    "    elif i==\"sub\":\n",
    "        z=x-y\n",
    "    elif i==\"mul\" :\n",
    "        z=x*y\n",
    "    elif i==\"dev\":\n",
    "        z=x/y\n",
    "    return z\n",
    "w=fun(5,6,\"sum\")\n",
    "print(w)"
   ]
  },
  {
   "cell_type": "code",
   "execution_count": null,
   "id": "18b4dac2",
   "metadata": {},
   "outputs": [],
   "source": []
  }
 ],
 "metadata": {
  "kernelspec": {
   "display_name": "Python 3 (ipykernel)",
   "language": "python",
   "name": "python3"
  },
  "language_info": {
   "codemirror_mode": {
    "name": "ipython",
    "version": 3
   },
   "file_extension": ".py",
   "mimetype": "text/x-python",
   "name": "python",
   "nbconvert_exporter": "python",
   "pygments_lexer": "ipython3",
   "version": "3.9.12"
  }
 },
 "nbformat": 4,
 "nbformat_minor": 5
}
